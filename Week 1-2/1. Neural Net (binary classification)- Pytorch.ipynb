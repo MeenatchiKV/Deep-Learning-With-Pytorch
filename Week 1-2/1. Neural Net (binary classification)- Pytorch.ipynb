{
 "cells": [
  {
   "cell_type": "markdown",
   "id": "bedaeb6f-eeb2-4297-b6fd-186d41848919",
   "metadata": {},
   "source": [
    "# Basic Neural Network with Pytorch\n",
    "https://machinelearningmastery.com/develop-your-first-neural-network-with-pytorch-step-by-step/\n",
    "\n",
    "# pima-indians-diabetes.csv\n",
    "\n",
    "## Input Variables (X):\n",
    "\n",
    "Number of times pregnant<br>\n",
    "Plasma glucose concentration at 2 hours in an oral glucose tolerance test<br>\n",
    "Diastolic blood pressure (mm Hg)<br>\n",
    "Triceps skin fold thickness (mm)<br>\n",
    "2-hour serum insulin (μIU/ml)<br>\n",
    "Body mass index (weight in kg/(height in m)2)<br>\n",
    "Diabetes pedigree function<br>\n",
    "Age (years)<br>\n",
    "\n",
    "## Output Variables (y):\n",
    "\n",
    "Class label (0 or 1)"
   ]
  },
  {
   "cell_type": "code",
   "execution_count": 1,
   "id": "a1c3643a-25f3-46c4-bea4-6cc5121c24bd",
   "metadata": {},
   "outputs": [],
   "source": [
    "import numpy as np\n",
    "import torch\n",
    "import torch.nn as nn\n",
    "import torch.optim as optim"
   ]
  },
  {
   "cell_type": "code",
   "execution_count": 2,
   "id": "ac672b93-1ec8-4d3e-9df7-c230428f587a",
   "metadata": {},
   "outputs": [],
   "source": [
    "dataset = np.loadtxt('data/pima-indians-diabetes.csv', delimiter=',')\n",
    "X=dataset[:,0:8]\n",
    "y=dataset[:,8]"
   ]
  },
  {
   "cell_type": "code",
   "execution_count": 3,
   "id": "5cddcee8-a81d-4e6d-aad9-7217f766fa68",
   "metadata": {},
   "outputs": [],
   "source": [
    "X = torch.tensor(X, dtype=torch.float32)\n",
    "y = torch.tensor(y, dtype=torch.float32).reshape(-1,1)"
   ]
  },
  {
   "cell_type": "code",
   "execution_count": 4,
   "id": "52dbc99b-93bd-4914-b329-34c43ccbb1e7",
   "metadata": {},
   "outputs": [
    {
     "name": "stdout",
     "output_type": "stream",
     "text": [
      "Sequential(\n",
      "  (0): Linear(in_features=8, out_features=12, bias=True)\n",
      "  (1): ReLU()\n",
      "  (2): Linear(in_features=12, out_features=8, bias=True)\n",
      "  (3): ReLU()\n",
      "  (4): Linear(in_features=8, out_features=1, bias=True)\n",
      "  (5): Sigmoid()\n",
      ")\n"
     ]
    }
   ],
   "source": [
    "model = nn.Sequential( nn.Linear(8,12),\n",
    "                       nn.ReLU(),\n",
    "                       nn.Linear(12,8),\n",
    "                       nn.ReLU(),\n",
    "                       nn.Linear(8,1),\n",
    "                       nn.Sigmoid())\n",
    "print(model)"
   ]
  },
  {
   "cell_type": "code",
   "execution_count": 6,
   "id": "4306d29e-6c68-4979-8877-2b7b6e8ccb63",
   "metadata": {},
   "outputs": [
    {
     "name": "stdout",
     "output_type": "stream",
     "text": [
      "PimaClassifier(\n",
      "  (hidden1): Linear(in_features=8, out_features=12, bias=True)\n",
      "  (act1): ReLU()\n",
      "  (hidden2): Linear(in_features=12, out_features=8, bias=True)\n",
      "  (act2): ReLU()\n",
      "  (hidden3): Linear(in_features=8, out_features=1, bias=True)\n",
      "  (act3): Sigmoid()\n",
      ")\n"
     ]
    }
   ],
   "source": [
    "class PimaClassifier(nn.Module):\n",
    "    def __init__(self):\n",
    "        super().__init__()\n",
    "        self.hidden1 = nn.Linear(8,12)\n",
    "        self.act1 = nn.ReLU()\n",
    "        self.hidden2 = nn.Linear(12,8)\n",
    "        self.act2 = nn.ReLU()\n",
    "        self.hidden3 = nn.Linear(8,1)\n",
    "        self.act3 = nn.Sigmoid()\n",
    "\n",
    "    def forward(self, x):\n",
    "        x = self.act1(self.hidden1(x))\n",
    "        x = self.act2(self.hidden2(x))\n",
    "        x = self.act3(self.hidden3(x))\n",
    "        return x\n",
    "\n",
    "model = PimaClassifier()\n",
    "print(model)"
   ]
  },
  {
   "cell_type": "code",
   "execution_count": 7,
   "id": "362bca6f-07fa-41e0-87a2-bc776dd26e58",
   "metadata": {
    "scrolled": true
   },
   "outputs": [
    {
     "name": "stdout",
     "output_type": "stream",
     "text": [
      "Finished epoch 0, latest loss 0.4524034857749939\n",
      "Finished epoch 1, latest loss 0.4478883743286133\n",
      "Finished epoch 2, latest loss 0.4469546377658844\n",
      "Finished epoch 3, latest loss 0.4462054967880249\n",
      "Finished epoch 4, latest loss 0.4488331079483032\n",
      "Finished epoch 5, latest loss 0.45071810483932495\n",
      "Finished epoch 6, latest loss 0.45112916827201843\n",
      "Finished epoch 7, latest loss 0.45281311869621277\n",
      "Finished epoch 8, latest loss 0.4545589089393616\n",
      "Finished epoch 9, latest loss 0.4579835534095764\n",
      "Finished epoch 10, latest loss 0.4591492712497711\n",
      "Finished epoch 11, latest loss 0.4572329521179199\n",
      "Finished epoch 12, latest loss 0.4563591182231903\n",
      "Finished epoch 13, latest loss 0.458182156085968\n",
      "Finished epoch 14, latest loss 0.454620897769928\n",
      "Finished epoch 15, latest loss 0.4584195911884308\n",
      "Finished epoch 16, latest loss 0.45913735032081604\n",
      "Finished epoch 17, latest loss 0.45824405550956726\n",
      "Finished epoch 18, latest loss 0.4562346339225769\n",
      "Finished epoch 19, latest loss 0.4566793739795685\n",
      "Finished epoch 20, latest loss 0.4552644193172455\n",
      "Finished epoch 21, latest loss 0.4566705822944641\n",
      "Finished epoch 22, latest loss 0.45584848523139954\n",
      "Finished epoch 23, latest loss 0.4586218297481537\n",
      "Finished epoch 24, latest loss 0.45480382442474365\n",
      "Finished epoch 25, latest loss 0.4524316191673279\n",
      "Finished epoch 26, latest loss 0.4526834785938263\n",
      "Finished epoch 27, latest loss 0.45467662811279297\n",
      "Finished epoch 28, latest loss 0.4546448886394501\n",
      "Finished epoch 29, latest loss 0.45460954308509827\n",
      "Finished epoch 30, latest loss 0.4536204934120178\n",
      "Finished epoch 31, latest loss 0.45262494683265686\n",
      "Finished epoch 32, latest loss 0.45058807730674744\n",
      "Finished epoch 33, latest loss 0.44875186681747437\n",
      "Finished epoch 34, latest loss 0.45034509897232056\n",
      "Finished epoch 35, latest loss 0.44948527216911316\n",
      "Finished epoch 36, latest loss 0.45033979415893555\n",
      "Finished epoch 37, latest loss 0.45045793056488037\n",
      "Finished epoch 38, latest loss 0.4451417624950409\n",
      "Finished epoch 39, latest loss 0.44652631878852844\n",
      "Finished epoch 40, latest loss 0.44671431183815\n",
      "Finished epoch 41, latest loss 0.4453234076499939\n",
      "Finished epoch 42, latest loss 0.44408297538757324\n",
      "Finished epoch 43, latest loss 0.44463327527046204\n",
      "Finished epoch 44, latest loss 0.44227784872055054\n",
      "Finished epoch 45, latest loss 0.4413177967071533\n",
      "Finished epoch 46, latest loss 0.44240209460258484\n",
      "Finished epoch 47, latest loss 0.4448080062866211\n",
      "Finished epoch 48, latest loss 0.4431009888648987\n",
      "Finished epoch 49, latest loss 0.44150176644325256\n",
      "Finished epoch 50, latest loss 0.44239237904548645\n",
      "Finished epoch 51, latest loss 0.4409801661968231\n",
      "Finished epoch 52, latest loss 0.4393766522407532\n",
      "Finished epoch 53, latest loss 0.43736088275909424\n",
      "Finished epoch 54, latest loss 0.4380367398262024\n",
      "Finished epoch 55, latest loss 0.43744975328445435\n",
      "Finished epoch 56, latest loss 0.436133474111557\n",
      "Finished epoch 57, latest loss 0.43492305278778076\n",
      "Finished epoch 58, latest loss 0.4346590042114258\n",
      "Finished epoch 59, latest loss 0.43156346678733826\n",
      "Finished epoch 60, latest loss 0.43350091576576233\n",
      "Finished epoch 61, latest loss 0.4329293966293335\n",
      "Finished epoch 62, latest loss 0.4353364408016205\n",
      "Finished epoch 63, latest loss 0.4345918893814087\n",
      "Finished epoch 64, latest loss 0.44863125681877136\n",
      "Finished epoch 65, latest loss 0.4348074793815613\n",
      "Finished epoch 66, latest loss 0.4420364797115326\n",
      "Finished epoch 67, latest loss 0.5689579844474792\n",
      "Finished epoch 68, latest loss 0.44206398725509644\n",
      "Finished epoch 69, latest loss 0.5326682329177856\n",
      "Finished epoch 70, latest loss 0.4409421682357788\n",
      "Finished epoch 71, latest loss 0.43942660093307495\n",
      "Finished epoch 72, latest loss 0.489001601934433\n",
      "Finished epoch 73, latest loss 0.4463932514190674\n",
      "Finished epoch 74, latest loss 0.4632807672023773\n",
      "Finished epoch 75, latest loss 0.4468676745891571\n",
      "Finished epoch 76, latest loss 0.46581602096557617\n",
      "Finished epoch 77, latest loss 0.450678288936615\n",
      "Finished epoch 78, latest loss 0.4434141516685486\n",
      "Finished epoch 79, latest loss 0.5264878869056702\n",
      "Finished epoch 80, latest loss 0.4510927200317383\n",
      "Finished epoch 81, latest loss 0.5159131288528442\n",
      "Finished epoch 82, latest loss 0.44408154487609863\n",
      "Finished epoch 83, latest loss 0.4569336175918579\n",
      "Finished epoch 84, latest loss 0.4510177671909332\n",
      "Finished epoch 85, latest loss 0.5053204298019409\n",
      "Finished epoch 86, latest loss 0.4522942900657654\n",
      "Finished epoch 87, latest loss 0.4511426091194153\n",
      "Finished epoch 88, latest loss 0.45311301946640015\n",
      "Finished epoch 89, latest loss 0.5009896755218506\n",
      "Finished epoch 90, latest loss 0.4498957097530365\n",
      "Finished epoch 91, latest loss 0.456093966960907\n",
      "Finished epoch 92, latest loss 0.4473138153553009\n",
      "Finished epoch 93, latest loss 0.45619434118270874\n",
      "Finished epoch 94, latest loss 0.45900973677635193\n",
      "Finished epoch 95, latest loss 0.45358383655548096\n",
      "Finished epoch 96, latest loss 0.5055166482925415\n",
      "Finished epoch 97, latest loss 0.45157450437545776\n",
      "Finished epoch 98, latest loss 0.4461112916469574\n",
      "Finished epoch 99, latest loss 0.45425695180892944\n"
     ]
    }
   ],
   "source": [
    "loss_fn = nn.BCELoss()\n",
    "opt = optim.Adam(model.parameters(), lr=0.001)\n",
    "\n",
    "n_epochs = 100\n",
    "b_size = 10\n",
    "\n",
    "for epoch in range(n_epochs):\n",
    "    for i in range(0,len(X), b_size):\n",
    "        Xbatch = X[i:i+b_size]\n",
    "        y_pred = model(Xbatch)\n",
    "        ybatch = y[i:i+b_size]\n",
    "        loss = loss_fn(y_pred,ybatch)\n",
    "        opt.zero_grad()\n",
    "        loss.backward()\n",
    "        opt.step()\n",
    "    print(f'Finished epoch {epoch}, latest loss {loss}')"
   ]
  },
  {
   "cell_type": "code",
   "execution_count": 8,
   "id": "fb793a3f-c269-4662-84c8-4babe0f0ccf2",
   "metadata": {},
   "outputs": [
    {
     "name": "stdout",
     "output_type": "stream",
     "text": [
      "accurcay 0.7760416865348816\n"
     ]
    }
   ],
   "source": [
    "with torch.no_grad():\n",
    "    y_pred = model(X)\n",
    "\n",
    "acc = (y_pred.round() == y).float().mean()\n",
    "print(f'accurcay {acc}')"
   ]
  },
  {
   "cell_type": "code",
   "execution_count": 9,
   "id": "0e92bfe6-ea93-42c3-8b00-6067ddee605e",
   "metadata": {},
   "outputs": [
    {
     "name": "stdout",
     "output_type": "stream",
     "text": [
      "[6.0, 148.0, 72.0, 35.0, 0.0, 33.599998474121094, 0.6269999742507935, 50.0] => 1 (expected 1)\n",
      "[1.0, 85.0, 66.0, 29.0, 0.0, 26.600000381469727, 0.35100001096725464, 31.0] => 0 (expected 0)\n",
      "[8.0, 183.0, 64.0, 0.0, 0.0, 23.299999237060547, 0.671999990940094, 32.0] => 1 (expected 1)\n",
      "[1.0, 89.0, 66.0, 23.0, 94.0, 28.100000381469727, 0.16699999570846558, 21.0] => 0 (expected 0)\n",
      "[0.0, 137.0, 40.0, 35.0, 168.0, 43.099998474121094, 2.2880001068115234, 33.0] => 1 (expected 1)\n"
     ]
    }
   ],
   "source": [
    "predictions = (model(X) > 0.5).int()\n",
    "for i in range(5):\n",
    "    print('%s => %d (expected %d)' % (X[i].tolist(), predictions[i], y[i]))"
   ]
  }
 ],
 "metadata": {
  "kernelspec": {
   "display_name": "Python 3 (ipykernel)",
   "language": "python",
   "name": "python3"
  },
  "language_info": {
   "codemirror_mode": {
    "name": "ipython",
    "version": 3
   },
   "file_extension": ".py",
   "mimetype": "text/x-python",
   "name": "python",
   "nbconvert_exporter": "python",
   "pygments_lexer": "ipython3",
   "version": "3.12.0"
  }
 },
 "nbformat": 4,
 "nbformat_minor": 5
}
