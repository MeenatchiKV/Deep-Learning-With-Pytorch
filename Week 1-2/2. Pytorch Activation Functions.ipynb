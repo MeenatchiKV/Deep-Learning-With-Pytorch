{
 "cells": [
  {
   "cell_type": "markdown",
   "id": "e65aee32-1ace-407d-9502-b9257e85630a",
   "metadata": {},
   "source": [
    "## PyTorch provides several activation functions, each suited for different types of neural network architectures. Here are some commonly used ones:\n",
    "\n",
    "### **1. ReLU (Rectified Linear Unit)**\n",
    "   - `nn.ReLU()`\n",
    "   - Outputs **0** for negative inputs and keeps positive values unchanged.\n",
    "   - Helps mitigate the **vanishing gradient problem**.\n",
    "\n",
    "### **2. Leaky ReLU**\n",
    "   - `nn.LeakyReLU(negative_slope)`\n",
    "   - Similar to ReLU but allows a small negative slope for negative inputs.\n",
    "   - Prevents **dying neurons** issue.\n",
    "\n",
    "### **3. Sigmoid**\n",
    "   - `nn.Sigmoid()`\n",
    "   - Maps input values between **0 and 1**.\n",
    "   - Often used for **binary classification**.\n",
    "\n",
    "### **4. Tanh (Hyperbolic Tangent)**\n",
    "   - `nn.Tanh()`\n",
    "   - Maps input values between **-1 and 1**.\n",
    "   - Helps in **zero-centered activations**.\n",
    "\n",
    "### **5. Softmax**\n",
    "   - `nn.Softmax(dim)`\n",
    "   - Converts logits into **probabilities** for multi-class classification.\n",
    "   - Ensures outputs sum to **1**.\n",
    "\n",
    "### **6. ELU (Exponential Linear Unit)**\n",
    "   - `nn.ELU(alpha)`\n",
    "   - Similar to ReLU but smooths negative values instead of setting them to zero.\n",
    "\n",
    "### **7. SELU (Scaled Exponential Linear Unit)**\n",
    "   - `nn.SELU()`\n",
    "   - Self-normalizing activation function that helps stabilize training.\n",
    "\n",
    "### **8. GELU (Gaussian Error Linear Unit)**\n",
    "   - `nn.GELU()`\n",
    "   - Used in **transformer models** like BERT.\n",
    "\n",
    "### **9. Swish**\n",
    "   - `nn.SiLU()`\n",
    "   - A smooth, non-monotonic function that improves deep learning performance.\n",
    "\n",
    "### **10. Hard Sigmoid, Hard Tanh, Hard Swish**\n",
    "   - Approximations of their respective functions for **faster computation**.\n",
    "\n"
   ]
  },
  {
   "cell_type": "code",
   "execution_count": 1,
   "id": "be0023f9-0685-4100-931a-677bd24bd1d1",
   "metadata": {},
   "outputs": [],
   "source": [
    "import torch\n",
    "import torch.nn as nn\n",
    "\n",
    "input = torch.Tensor([1,-2,3,-5])"
   ]
  },
  {
   "cell_type": "markdown",
   "id": "3365a605-41a7-43af-b475-7d29b188b45a",
   "metadata": {},
   "source": [
    "# ReLU"
   ]
  },
  {
   "cell_type": "code",
   "execution_count": 4,
   "id": "6890ce4d-cdfd-4570-b15c-7eaffabd7255",
   "metadata": {},
   "outputs": [
    {
     "name": "stdout",
     "output_type": "stream",
     "text": [
      "tensor([1., 0., 3., 0.])\n"
     ]
    }
   ],
   "source": [
    "act = nn.ReLU()\n",
    "output = act(input)\n",
    "print(output)"
   ]
  },
  {
   "cell_type": "markdown",
   "id": "74a3d910-8eb0-40b5-b812-6fb5659ada80",
   "metadata": {},
   "source": [
    "# Leaky ReLU"
   ]
  },
  {
   "cell_type": "code",
   "execution_count": 6,
   "id": "7702ad15-27e1-4815-9216-7dbc3b26144b",
   "metadata": {},
   "outputs": [
    {
     "name": "stdout",
     "output_type": "stream",
     "text": [
      "tensor([ 1.0000, -0.4000,  3.0000, -1.0000])\n"
     ]
    }
   ],
   "source": [
    "# negative_slope a=0.2\n",
    "act = nn.LeakyReLU(0.2)\n",
    "output = act(input)\n",
    "print(output)"
   ]
  },
  {
   "cell_type": "markdown",
   "id": "ca8fc937-1306-42dd-911d-e1f903cfcc3e",
   "metadata": {},
   "source": [
    "# Sigmoid"
   ]
  },
  {
   "cell_type": "code",
   "execution_count": 7,
   "id": "82f50ff5-a6bc-4971-8c8e-22edcbf150dc",
   "metadata": {},
   "outputs": [
    {
     "name": "stdout",
     "output_type": "stream",
     "text": [
      "tensor([0.7311, 0.1192, 0.9526, 0.0067])\n"
     ]
    }
   ],
   "source": [
    "act = nn.Sigmoid()\n",
    "output = act(input)\n",
    "print(output)"
   ]
  },
  {
   "cell_type": "markdown",
   "id": "5b8576ba-e18a-4bdf-8d3c-cba6bb9de501",
   "metadata": {},
   "source": [
    "# Tanh"
   ]
  },
  {
   "cell_type": "code",
   "execution_count": 8,
   "id": "33139359-e146-4ba0-aaef-93701c8171ba",
   "metadata": {},
   "outputs": [
    {
     "name": "stdout",
     "output_type": "stream",
     "text": [
      "tensor([ 0.7616, -0.9640,  0.9951, -0.9999])\n"
     ]
    }
   ],
   "source": [
    "act = nn.Tanh()\n",
    "output = act(input)\n",
    "print(output)"
   ]
  },
  {
   "cell_type": "markdown",
   "id": "20fdc9b7-8dee-4b9f-a80b-79290f972a31",
   "metadata": {},
   "source": [
    "# Softmax"
   ]
  },
  {
   "cell_type": "code",
   "execution_count": 9,
   "id": "c235fd91-e290-485b-84d1-c0b3371d0ada",
   "metadata": {},
   "outputs": [
    {
     "name": "stdout",
     "output_type": "stream",
     "text": [
      "tensor([1.1846e-01, 5.8980e-03, 8.7534e-01, 2.9365e-04])\n"
     ]
    }
   ],
   "source": [
    "# dimension dim=0, dimension starts from 0\n",
    "act = nn.Softmax(dim=0)\n",
    "output = act(input)\n",
    "print(output)"
   ]
  },
  {
   "cell_type": "markdown",
   "id": "7e235276-a5ff-4497-9cd9-0719f212eb87",
   "metadata": {},
   "source": [
    "# ELU"
   ]
  },
  {
   "cell_type": "code",
   "execution_count": 10,
   "id": "6637aa08-8054-4c98-9020-ee220d3d9e36",
   "metadata": {},
   "outputs": [
    {
     "name": "stdout",
     "output_type": "stream",
     "text": [
      "tensor([ 1.0000, -0.8647,  3.0000, -0.9933])\n"
     ]
    }
   ],
   "source": [
    "act = nn.ELU(alpha=1.0)\n",
    "output = act(input)\n",
    "print(output)"
   ]
  },
  {
   "cell_type": "markdown",
   "id": "e04ba508-51b0-4713-8df2-0aada21f17c4",
   "metadata": {},
   "source": [
    "# SELU"
   ]
  },
  {
   "cell_type": "code",
   "execution_count": 11,
   "id": "b0ad0d88-a581-40f8-9a02-af79316ffb1a",
   "metadata": {},
   "outputs": [
    {
     "name": "stdout",
     "output_type": "stream",
     "text": [
      "tensor([ 1.0507, -1.5202,  3.1521, -1.7463])\n"
     ]
    }
   ],
   "source": [
    "act = nn.SELU()\n",
    "output = act(input)\n",
    "print(output)"
   ]
  },
  {
   "cell_type": "markdown",
   "id": "d8eacc14-4e84-4ca4-b83b-82059fc3701d",
   "metadata": {},
   "source": [
    "# SiLU - Swish"
   ]
  },
  {
   "cell_type": "code",
   "execution_count": 13,
   "id": "0eb5586a-fc98-4904-a14d-e6c38f1f1813",
   "metadata": {},
   "outputs": [
    {
     "name": "stdout",
     "output_type": "stream",
     "text": [
      "tensor([ 0.7311, -0.2384,  2.8577, -0.0335])\n"
     ]
    }
   ],
   "source": [
    "act = nn.SiLU()\n",
    "output = act(input)\n",
    "print(output)"
   ]
  },
  {
   "cell_type": "markdown",
   "id": "8355ad4f-a187-4abc-82d2-46de8c55190b",
   "metadata": {},
   "source": [
    "# GELU"
   ]
  },
  {
   "cell_type": "code",
   "execution_count": 14,
   "id": "af4caae6-ac02-4f12-a075-ec1494a9a661",
   "metadata": {},
   "outputs": [
    {
     "name": "stdout",
     "output_type": "stream",
     "text": [
      "tensor([ 8.4134e-01, -4.5500e-02,  2.9959e+00, -1.1921e-06])\n"
     ]
    }
   ],
   "source": [
    "act = nn.GELU()\n",
    "output = act(input)\n",
    "print(output)"
   ]
  },
  {
   "cell_type": "markdown",
   "id": "ef80928b-ea03-4f16-9d6b-476203842962",
   "metadata": {},
   "source": [
    "# Hard Sigmoid"
   ]
  },
  {
   "cell_type": "code",
   "execution_count": 15,
   "id": "ca44884c-6815-4a39-b7fd-5f643e6a9b8d",
   "metadata": {},
   "outputs": [
    {
     "name": "stdout",
     "output_type": "stream",
     "text": [
      "tensor([0.6667, 0.1667, 1.0000, 0.0000])\n"
     ]
    }
   ],
   "source": [
    "act = nn.Hardsigmoid()\n",
    "output = act(input)\n",
    "print(output)"
   ]
  },
  {
   "cell_type": "markdown",
   "id": "f09ec27d-d486-4088-96d5-f7b9137fb3a0",
   "metadata": {},
   "source": [
    "# Hard Tanh"
   ]
  },
  {
   "cell_type": "code",
   "execution_count": 16,
   "id": "bb693b3c-47e8-425a-a8e3-c4c2dd7282b8",
   "metadata": {},
   "outputs": [
    {
     "name": "stdout",
     "output_type": "stream",
     "text": [
      "tensor([ 1., -1.,  1., -1.])\n"
     ]
    }
   ],
   "source": [
    "act = nn.Hardtanh()\n",
    "output = act(input)\n",
    "print(output)"
   ]
  },
  {
   "cell_type": "markdown",
   "id": "34aeac5f-94b1-48a5-809b-4fd0e3373851",
   "metadata": {},
   "source": [
    "# Hard Swish"
   ]
  },
  {
   "cell_type": "code",
   "execution_count": 17,
   "id": "e61b2ec6-56f4-4218-8fa7-a90a4a2f48a5",
   "metadata": {},
   "outputs": [
    {
     "name": "stdout",
     "output_type": "stream",
     "text": [
      "tensor([ 0.6667, -0.3333,  3.0000, -0.0000])\n"
     ]
    }
   ],
   "source": [
    "act = nn.Hardswish()\n",
    "output = act(input)\n",
    "print(output)"
   ]
  },
  {
   "cell_type": "code",
   "execution_count": null,
   "id": "a6c460c8-ebc8-4a2f-af62-bae2f15973c7",
   "metadata": {},
   "outputs": [],
   "source": []
  }
 ],
 "metadata": {
  "kernelspec": {
   "display_name": "Python 3 (ipykernel)",
   "language": "python",
   "name": "python3"
  },
  "language_info": {
   "codemirror_mode": {
    "name": "ipython",
    "version": 3
   },
   "file_extension": ".py",
   "mimetype": "text/x-python",
   "name": "python",
   "nbconvert_exporter": "python",
   "pygments_lexer": "ipython3",
   "version": "3.12.0"
  }
 },
 "nbformat": 4,
 "nbformat_minor": 5
}
