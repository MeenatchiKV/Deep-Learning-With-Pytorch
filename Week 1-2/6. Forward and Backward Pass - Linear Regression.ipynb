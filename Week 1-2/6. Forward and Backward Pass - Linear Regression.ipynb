{
 "cells": [
  {
   "cell_type": "markdown",
   "id": "9abb1e5d-a449-43e1-9e12-7fe904a70d8f",
   "metadata": {},
   "source": [
    "# Understanding Forward and Backward Pass"
   ]
  },
  {
   "cell_type": "markdown",
   "id": "c7ebf75c-6cee-431f-b594-33706f753727",
   "metadata": {},
   "source": [
    "## Using a simple Linear Regression Model - Pytorch\n",
    "\n",
    "### y = a.x + b"
   ]
  },
  {
   "cell_type": "code",
   "execution_count": 1,
   "id": "432dbfea-4881-48fd-b891-ef8075ab9785",
   "metadata": {},
   "outputs": [],
   "source": [
    "import torch\n",
    "import torch.nn as nn\n",
    "import torch.optim as optim"
   ]
  },
  {
   "cell_type": "code",
   "execution_count": 2,
   "id": "100b4017-121c-41ba-a74f-60e4e62e7258",
   "metadata": {},
   "outputs": [],
   "source": [
    "X_values = [0.2, 0.4, 0.6, 0.8, 1.0, 1.2]\n",
    "Y_values = [0.18, 0.32, 0.42, 0.48, 0.58, 0.72]\n",
    "\n",
    "X_train = torch.tensor(X_values, dtype=torch.float32).view(-1,1)\n",
    "Y_train = torch.tensor(Y_values, dtype=torch.float32).view(-1,1)"
   ]
  },
  {
   "cell_type": "code",
   "execution_count": 3,
   "id": "ed1f3073-0a0b-4724-a386-9231121e330c",
   "metadata": {},
   "outputs": [
    {
     "name": "stdout",
     "output_type": "stream",
     "text": [
      "LinearRegression(\n",
      "  (linear): Linear(in_features=1, out_features=1, bias=True)\n",
      ")\n"
     ]
    }
   ],
   "source": [
    "class LinearRegression(nn.Module):\n",
    "    def __init__(self):\n",
    "        super().__init__()\n",
    "        self.linear = nn.Linear(1,1) # 1 input 1 output\n",
    "\n",
    "    def forward(self, x):\n",
    "        return self.linear(x)\n",
    "\n",
    "model = LinearRegression()\n",
    "print(model)"
   ]
  },
  {
   "cell_type": "code",
   "execution_count": 4,
   "id": "76c71a78-8d32-413f-a817-478be00e5a84",
   "metadata": {},
   "outputs": [
    {
     "name": "stdout",
     "output_type": "stream",
     "text": [
      "Initialized Values - a: 1.0, b: 1.0\n"
     ]
    }
   ],
   "source": [
    "initial_a = 1.0\n",
    "initial_b = 1.0\n",
    "model.linear.weight.data.fill_(initial_a)\n",
    "model.linear.bias.data.fill_(initial_b)\n",
    "\n",
    "print(f\"Initialized Values - a: {model.linear.weight.item()}, b: {model.linear.bias.item()}\")"
   ]
  },
  {
   "cell_type": "code",
   "execution_count": 5,
   "id": "c398caee-e703-4467-8580-ee42951261c4",
   "metadata": {},
   "outputs": [],
   "source": [
    "optimizer = optim.SGD(model.parameters(), lr=0.1)\n",
    "criterion = nn.MSELoss()"
   ]
  },
  {
   "cell_type": "code",
   "execution_count": 6,
   "id": "2cf33b5c-cb7a-4f50-90bd-5722022866ee",
   "metadata": {},
   "outputs": [],
   "source": [
    "num_epochs = 1\n",
    "batch_size = 2\n",
    "n_batches = len(X_train)//batch_size"
   ]
  },
  {
   "cell_type": "code",
   "execution_count": 7,
   "id": "27c9eb75-792a-4f88-964e-d872cd456fe0",
   "metadata": {},
   "outputs": [
    {
     "name": "stdout",
     "output_type": "stream",
     "text": [
      "epoch: 0, batch: 0, loss: 1.1034, a: 0.9364, b: 0.7900\n",
      "epoch: 0, batch: 1, loss: 0.9950, a: 0.7958, b: 0.5909\n",
      "epoch: 0, batch: 2, loss: 0.6663, a: 0.6160, b: 0.4277\n"
     ]
    }
   ],
   "source": [
    "for epoch in range(num_epochs):\n",
    "    for batch_idx in range(n_batches):\n",
    "        start_idx = batch_idx * batch_size\n",
    "        end_idx = start_idx + batch_size\n",
    "\n",
    "        X_batch = X_train[start_idx:end_idx]\n",
    "        Y_batch = Y_train[start_idx:end_idx]\n",
    "\n",
    "        # forward Pass\n",
    "        Y_pred = model(X_batch)\n",
    "        loss = criterion(Y_pred, Y_batch)\n",
    "\n",
    "        # Backward Pass\n",
    "        optimizer.zero_grad() # zero the gradients\n",
    "        loss.backward() # propogate the loss\n",
    "        optimizer.step() # Update the weights\n",
    "\n",
    "        a, b = model.linear.weight.item(), model.linear.bias.item()\n",
    "        print(f\"epoch: {epoch}, batch: {batch_idx}, loss: {loss.item():.4f}, a: {a:.4f}, b: {b:.4f}\")"
   ]
  },
  {
   "cell_type": "code",
   "execution_count": 8,
   "id": "880e0f7a-1642-4026-baa3-c13e754e843a",
   "metadata": {},
   "outputs": [
    {
     "name": "stdout",
     "output_type": "stream",
     "text": [
      "final model parameters - a: 0.6159956455230713, b: 0.42765599489212036\n"
     ]
    }
   ],
   "source": [
    "a, b = model.linear.weight.item(), model.linear.bias.item()\n",
    "print(f\"final model parameters - a: {a}, b: {b}\")"
   ]
  },
  {
   "cell_type": "code",
   "execution_count": null,
   "id": "ff99bf8c-e116-4fa1-b4a1-d1427d660f4b",
   "metadata": {},
   "outputs": [],
   "source": []
  }
 ],
 "metadata": {
  "kernelspec": {
   "display_name": "Python 3 (ipykernel)",
   "language": "python",
   "name": "python3"
  },
  "language_info": {
   "codemirror_mode": {
    "name": "ipython",
    "version": 3
   },
   "file_extension": ".py",
   "mimetype": "text/x-python",
   "name": "python",
   "nbconvert_exporter": "python",
   "pygments_lexer": "ipython3",
   "version": "3.12.0"
  }
 },
 "nbformat": 4,
 "nbformat_minor": 5
}
