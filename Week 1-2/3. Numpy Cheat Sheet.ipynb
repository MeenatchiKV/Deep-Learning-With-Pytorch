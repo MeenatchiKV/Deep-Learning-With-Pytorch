{
 "cells": [
  {
   "cell_type": "markdown",
   "id": "3be4998c-77bb-41a8-a0b5-be969b054a43",
   "metadata": {},
   "source": [
    "# Numpy Cheat Sheet"
   ]
  },
  {
   "cell_type": "code",
   "execution_count": 2,
   "id": "ab0ca4db-339b-49c7-9bff-134a81afe0ff",
   "metadata": {},
   "outputs": [],
   "source": [
    "import numpy as np"
   ]
  },
  {
   "cell_type": "markdown",
   "id": "71b5cc9d-34f8-4526-a08d-d59534c359e6",
   "metadata": {},
   "source": [
    "## Creating arrays"
   ]
  },
  {
   "cell_type": "code",
   "execution_count": 3,
   "id": "b93a3651-255b-4d88-88a7-77f492112c99",
   "metadata": {},
   "outputs": [
    {
     "name": "stdout",
     "output_type": "stream",
     "text": [
      "[1 2 3]\n",
      "[[1. 2. 3.]\n",
      " [4. 5. 6.]]\n",
      "[[1. 2. 3.]\n",
      " [4. 5. 6.]\n",
      " [7. 8. 9.]]\n"
     ]
    }
   ],
   "source": [
    "# 1D\n",
    "a = np.array([1,2,3])\n",
    "\n",
    "# 2D\n",
    "b = np.array([(1,2,3),(4,5,6)], dtype=float)\n",
    "\n",
    "# 3D\n",
    "c = np.array([(1,2,3),(4,5,6),(7,8,9)], dtype=float)\n",
    "\n",
    "print(a)\n",
    "print(b)\n",
    "print(c)"
   ]
  },
  {
   "cell_type": "markdown",
   "id": "49cb3f72-abe5-4110-acb0-43beffd851d8",
   "metadata": {},
   "source": [
    "## Initial Placeholders"
   ]
  },
  {
   "cell_type": "code",
   "execution_count": 6,
   "id": "3e4c68da-cc6c-4dce-bcf6-74a1a06c3d63",
   "metadata": {},
   "outputs": [
    {
     "name": "stdout",
     "output_type": "stream",
     "text": [
      "[[0. 0. 0. 0.]\n",
      " [0. 0. 0. 0.]\n",
      " [0. 0. 0. 0.]]\n",
      "[[[1 1 1 1]\n",
      "  [1 1 1 1]\n",
      "  [1 1 1 1]]\n",
      "\n",
      " [[1 1 1 1]\n",
      "  [1 1 1 1]\n",
      "  [1 1 1 1]]]\n",
      "[10 15 20]\n",
      "[0.   0.25 0.5  0.75 1.   1.25 1.5  1.75 2.  ]\n",
      "[[7 7]\n",
      " [7 7]]\n",
      "[[1. 0.]\n",
      " [0. 1.]]\n",
      "[[0.94684732 0.46511842]\n",
      " [0.54008011 0.84371753]]\n",
      "[[0. 0. 0. 0.]\n",
      " [0. 0. 0. 0.]\n",
      " [0. 0. 0. 0.]]\n"
     ]
    }
   ],
   "source": [
    "print(np.zeros((3,4))) # an array of zeros\n",
    "print(np.ones((2,3,4),dtype=np.int16)) # an array of ones\n",
    "print(np.arange(10,25,5)) # array of evenly spaced values - step\n",
    "print(np.linspace(0,2,9)) # evenly spaced values - no of samples\n",
    "print(np.full((2,2),7)) # constant array\n",
    "print(np.eye(2))\n",
    "print(np.random.random((2,2))) # random valued array\n",
    "print(np.empty((3,4))) # empty array\n"
   ]
  },
  {
   "cell_type": "markdown",
   "id": "24fe2292-b89b-409e-b130-93f6210a6eab",
   "metadata": {},
   "source": [
    "## Saving and Loading"
   ]
  },
  {
   "cell_type": "code",
   "execution_count": 7,
   "id": "f064afd8-a41b-422f-a136-493c1880253b",
   "metadata": {},
   "outputs": [
    {
     "name": "stdout",
     "output_type": "stream",
     "text": [
      "[1 2 3]\n"
     ]
    }
   ],
   "source": [
    "# Saving as a npy file\n",
    "np.save('data/my_array',a)\n",
    "np.savez('data/array.npz',a,b)\n",
    "print(np.load('data/my_array.npy'))"
   ]
  },
  {
   "cell_type": "code",
   "execution_count": 19,
   "id": "97961edf-7d45-4d1c-b172-403b10a3754a",
   "metadata": {},
   "outputs": [
    {
     "name": "stdout",
     "output_type": "stream",
     "text": [
      "[1. 2. 3. 4. 5.]\n"
     ]
    }
   ],
   "source": [
    "# loding from as a text file\n",
    "print(np.loadtxt('data/myfile.txt'))"
   ]
  },
  {
   "cell_type": "code",
   "execution_count": 20,
   "id": "2dc3fdb3-848e-4cd8-b7df-076ee709c068",
   "metadata": {},
   "outputs": [
    {
     "name": "stdout",
     "output_type": "stream",
     "text": [
      "[[1. 2. 3. 4. 5.]\n",
      " [6. 7. 8. 9. 0.]\n",
      " [5. 6. 7. 8. 9.]]\n"
     ]
    }
   ],
   "source": [
    "# generating from text file\n",
    "print(np.genfromtxt('data/myfile.csv',delimiter=','))"
   ]
  },
  {
   "cell_type": "code",
   "execution_count": 23,
   "id": "fcf365fb-a8e6-408f-9310-078372ccddf9",
   "metadata": {},
   "outputs": [],
   "source": [
    "# saving a numpy variable to a file\n",
    "np.savetxt(\"data/myarray.csv\",b,delimiter=\",\")"
   ]
  },
  {
   "cell_type": "markdown",
   "id": "11d3bdc2-839a-4a31-b45a-e5a82a97663a",
   "metadata": {},
   "source": [
    "## Inspecting Arrays"
   ]
  },
  {
   "cell_type": "code",
   "execution_count": 4,
   "id": "b5c5a1e7-b8f5-4498-ba00-d4cd5c797c63",
   "metadata": {},
   "outputs": [
    {
     "name": "stdout",
     "output_type": "stream",
     "text": [
      "(3,) (2, 3)\n",
      "3 2\n",
      "2\n",
      "9\n",
      "float64\n",
      "float64\n",
      "[[1 2 3]\n",
      " [4 5 6]]\n"
     ]
    }
   ],
   "source": [
    "print(a.shape, b.shape)\n",
    "print(len(a), len(b))\n",
    "print(b.ndim)\n",
    "print(c.size)\n",
    "print(b.dtype)\n",
    "print(b.dtype.name)\n",
    "print(b.astype(int)) # type conversion\n"
   ]
  },
  {
   "cell_type": "code",
   "execution_count": 11,
   "id": "9210ed70-f17c-4365-8d48-abc588485f78",
   "metadata": {},
   "outputs": [
    {
     "name": "stdout",
     "output_type": "stream",
     "text": [
      "<class 'numpy.int64'>\n",
      "<class 'numpy.float32'>\n",
      "<class 'numpy.bool'>\n",
      "<class 'numpy.bytes_'>\n",
      "<class 'numpy.str_'>\n"
     ]
    }
   ],
   "source": [
    "print(np.int64)\n",
    "print(np.float32)\n",
    "print(np.bool)\n",
    "print(np.bytes_)\n",
    "print(np.str_)"
   ]
  },
  {
   "cell_type": "markdown",
   "id": "94b7dfa6-73df-43b8-bb15-0244c46d2ae3",
   "metadata": {},
   "source": [
    "## Array Maths"
   ]
  },
  {
   "cell_type": "code",
   "execution_count": 14,
   "id": "11b32926-82d0-41e2-8794-ebb89d6713eb",
   "metadata": {},
   "outputs": [
    {
     "name": "stdout",
     "output_type": "stream",
     "text": [
      "[[ 0.  0.  0.]\n",
      " [-3. -3. -3.]]\n",
      "[[ 0.  0.  0.]\n",
      " [-3. -3. -3.]]\n"
     ]
    }
   ],
   "source": [
    "g = a - b\n",
    "print(g)\n",
    "print(np.subtract(a,b))"
   ]
  },
  {
   "cell_type": "code",
   "execution_count": 16,
   "id": "4d7a4840-da65-47ca-bbea-01147190b63e",
   "metadata": {},
   "outputs": [
    {
     "name": "stdout",
     "output_type": "stream",
     "text": [
      "[[2. 4. 6.]\n",
      " [5. 7. 9.]]\n",
      "[[2. 4. 6.]\n",
      " [5. 7. 9.]]\n"
     ]
    }
   ],
   "source": [
    "h = a + b\n",
    "print(h)\n",
    "print(np.add(a,b))"
   ]
  },
  {
   "cell_type": "code",
   "execution_count": 17,
   "id": "17556a62-f4cd-4600-8422-18c5c24caa9a",
   "metadata": {},
   "outputs": [
    {
     "name": "stdout",
     "output_type": "stream",
     "text": [
      "[[1.   1.   1.  ]\n",
      " [0.25 0.4  0.5 ]]\n",
      "[[1.   1.   1.  ]\n",
      " [0.25 0.4  0.5 ]]\n"
     ]
    }
   ],
   "source": [
    "i = a / b\n",
    "print(i)\n",
    "print(np.divide(a,b))"
   ]
  },
  {
   "cell_type": "code",
   "execution_count": 18,
   "id": "b0b5fd23-0900-433e-b9bc-bdce5a352851",
   "metadata": {},
   "outputs": [
    {
     "name": "stdout",
     "output_type": "stream",
     "text": [
      "[[ 1.  4.  9.]\n",
      " [ 4. 10. 18.]]\n",
      "[[ 1.  4.  9.]\n",
      " [ 4. 10. 18.]]\n"
     ]
    }
   ],
   "source": [
    "j = a * b\n",
    "print(j)\n",
    "print(np.multiply(a,b))"
   ]
  },
  {
   "cell_type": "code",
   "execution_count": 21,
   "id": "9303cdbd-22aa-486f-b46e-db369fc1a934",
   "metadata": {},
   "outputs": [
    {
     "name": "stdout",
     "output_type": "stream",
     "text": [
      "[[  2.71828183   7.3890561   20.08553692]\n",
      " [ 54.59815003 148.4131591  403.42879349]]\n",
      "[[1.         1.41421356 1.73205081]\n",
      " [2.         2.23606798 2.44948974]]\n",
      "[0.84147098 0.90929743 0.14112001]\n",
      "[[ 0.54030231 -0.41614684 -0.9899925 ]\n",
      " [-0.65364362  0.28366219  0.96017029]]\n",
      "[0.         0.69314718 1.09861229]\n",
      "[[ 0.  0.]\n",
      " [ 0. 27.]]\n"
     ]
    }
   ],
   "source": [
    "print(np.exp(b))\n",
    "print(np.sqrt(b))\n",
    "print(np.sin(a))\n",
    "print(np.cos(b))\n",
    "print(np.log(a))\n",
    "print(g.dot(np.transpose(g)))"
   ]
  },
  {
   "cell_type": "markdown",
   "id": "27873aa1-ff99-4d36-b4b8-802910c2a324",
   "metadata": {},
   "source": [
    "## Comparison"
   ]
  },
  {
   "cell_type": "code",
   "execution_count": 23,
   "id": "d6ea78ab-a15a-40d0-84cd-d63956cb2eae",
   "metadata": {},
   "outputs": [
    {
     "name": "stdout",
     "output_type": "stream",
     "text": [
      "[[ True  True  True]\n",
      " [False False False]]\n",
      "[ True False False]\n",
      "False\n"
     ]
    }
   ],
   "source": [
    "print(a==b)\n",
    "print(a<2)\n",
    "print(np.array_equal(a,b))"
   ]
  },
  {
   "cell_type": "markdown",
   "id": "4ab54374-7eda-4dd6-a856-c56321f5f0bb",
   "metadata": {},
   "source": [
    "## Aggregate functions"
   ]
  },
  {
   "cell_type": "code",
   "execution_count": 24,
   "id": "6ce193ca-86df-4cd6-9091-746ca49981b1",
   "metadata": {},
   "outputs": [
    {
     "name": "stdout",
     "output_type": "stream",
     "text": [
      "6\n",
      "1\n",
      "[4. 5. 6.]\n",
      "[[ 1.  3.  6.]\n",
      " [ 4.  9. 15.]]\n",
      "2.0\n",
      "3.5\n",
      "1.0\n",
      "1.707825127659933\n"
     ]
    }
   ],
   "source": [
    "print(a.sum())\n",
    "print(a.min())\n",
    "print(b.max(axis=0))\n",
    "print(b.cumsum(axis=1))\n",
    "print(a.mean())\n",
    "print(np.median(b))\n",
    "print(np.corrcoef(a))\n",
    "print(np.std(b))"
   ]
  },
  {
   "cell_type": "markdown",
   "id": "a680a4ab-7387-4264-9e51-16889b789b8c",
   "metadata": {},
   "source": [
    "## Copying Arrays"
   ]
  },
  {
   "cell_type": "code",
   "execution_count": 25,
   "id": "ccb36700-f0ee-4609-ad25-07ec960ffafe",
   "metadata": {},
   "outputs": [
    {
     "name": "stdout",
     "output_type": "stream",
     "text": [
      "[3 2 3]\n",
      "[3 2 3]\n"
     ]
    }
   ],
   "source": [
    "h = a.view()\n",
    "h[0] = 3\n",
    "print(a)\n",
    "print(h)"
   ]
  },
  {
   "cell_type": "code",
   "execution_count": 26,
   "id": "10b4c831-be32-4998-9a05-9501de32da3c",
   "metadata": {},
   "outputs": [
    {
     "name": "stdout",
     "output_type": "stream",
     "text": [
      "[3 2 3]\n",
      "[5 2 3]\n"
     ]
    }
   ],
   "source": [
    "i = np.copy(a)\n",
    "i[0] = 5\n",
    "print(a)\n",
    "print(i)"
   ]
  },
  {
   "cell_type": "code",
   "execution_count": 27,
   "id": "0749ad22-8e06-4707-b1e9-d0ce9039f2eb",
   "metadata": {},
   "outputs": [
    {
     "name": "stdout",
     "output_type": "stream",
     "text": [
      "[3 2 3]\n",
      "[10  2  3]\n"
     ]
    }
   ],
   "source": [
    "h = a.copy()\n",
    "h[0]=10\n",
    "print(a)\n",
    "print(h)"
   ]
  },
  {
   "cell_type": "markdown",
   "id": "75686f5f-786d-4fda-9ecb-9a60f33a4a6b",
   "metadata": {},
   "source": [
    "## Sorting"
   ]
  },
  {
   "cell_type": "code",
   "execution_count": 33,
   "id": "040aebe6-04ef-401d-82e8-0a37c9c9ca12",
   "metadata": {},
   "outputs": [
    {
     "name": "stdout",
     "output_type": "stream",
     "text": [
      "[ 2  4  4  6 33]\n",
      "[[3 2 4 1]\n",
      " [4 4 6 6]]\n",
      "[[2 4 4 6]\n",
      " [1 3 4 6]]\n"
     ]
    }
   ],
   "source": [
    "a=np.array([4,2,33,6,4])\n",
    "a.sort()\n",
    "print(a)\n",
    "c = np.array([(4,2,4,6),(3,4,6,1)])\n",
    "c.sort(axis=0)\n",
    "print(c)\n",
    "c = np.array([(4,2,4,6),(3,4,6,1)])\n",
    "c.sort(axis=1)\n",
    "print(c)"
   ]
  },
  {
   "cell_type": "markdown",
   "id": "f78e177b-fa33-4d54-91f6-3e0c068adfcb",
   "metadata": {},
   "source": [
    "## Subsetting"
   ]
  },
  {
   "cell_type": "code",
   "execution_count": 34,
   "id": "3327ef31-103d-4ff5-91c7-4d7a54027684",
   "metadata": {},
   "outputs": [
    {
     "name": "stdout",
     "output_type": "stream",
     "text": [
      "[ 2  4  4  6 33]\n",
      "4\n",
      "[[1. 2. 3.]\n",
      " [4. 5. 6.]]\n",
      "6.0\n"
     ]
    }
   ],
   "source": [
    "print(a)\n",
    "print(a[2])\n",
    "print(b)\n",
    "print(b[1,2])"
   ]
  },
  {
   "cell_type": "markdown",
   "id": "6b369a6d-9f13-4201-8d53-1966a3e64c92",
   "metadata": {},
   "source": [
    "## Boolean Indexing"
   ]
  },
  {
   "cell_type": "code",
   "execution_count": 37,
   "id": "f7102323-eeaa-43f9-9d8c-9ea3c5be864d",
   "metadata": {},
   "outputs": [
    {
     "name": "stdout",
     "output_type": "stream",
     "text": [
      "[ 2  4  4  6 33]\n",
      "[2 4 4]\n"
     ]
    }
   ],
   "source": [
    "print(a)\n",
    "print(a[a<6])"
   ]
  },
  {
   "cell_type": "markdown",
   "id": "9d1e944f-f609-456e-b3fd-87c9ed54e57b",
   "metadata": {},
   "source": [
    "## Fancy Indexing"
   ]
  },
  {
   "cell_type": "code",
   "execution_count": 38,
   "id": "a91fa1a1-9144-4749-b924-b18ede8bda74",
   "metadata": {},
   "outputs": [
    {
     "name": "stdout",
     "output_type": "stream",
     "text": [
      "[[1. 2. 3.]\n",
      " [4. 5. 6.]]\n",
      "[4. 2. 6. 1.]\n",
      "[[4. 5. 6. 4.]\n",
      " [1. 2. 3. 1.]\n",
      " [4. 5. 6. 4.]\n",
      " [1. 2. 3. 1.]]\n"
     ]
    }
   ],
   "source": [
    "print(b)\n",
    "print(b[[1,0,1,0],[0,1,2,0]])\n",
    "\n",
    "print(b[[1,0,1,0]][:,[0,1,2,0]])"
   ]
  },
  {
   "cell_type": "markdown",
   "id": "4e37d9ae-77ca-49ca-859e-39c1c908ca07",
   "metadata": {},
   "source": [
    "## Slicing"
   ]
  },
  {
   "cell_type": "code",
   "execution_count": 35,
   "id": "e125f47f-3c96-4e3b-a83b-03061000e13b",
   "metadata": {},
   "outputs": [
    {
     "name": "stdout",
     "output_type": "stream",
     "text": [
      "[ 2  4  4  6 33]\n",
      "[2 4]\n",
      "[33  6  4  4  2]\n",
      "[[1. 2. 3.]\n",
      " [4. 5. 6.]]\n",
      "[2. 5.]\n",
      "[[2 4 4 6]\n",
      " [1 3 4 6]]\n",
      "[1 3 4 6]\n"
     ]
    }
   ],
   "source": [
    "print(a)\n",
    "print(a[0:2])\n",
    "print(a[::-1])\n",
    "\n",
    "print(b)\n",
    "print(b[0:2,1])\n",
    "\n",
    "print(c)\n",
    "print(c[1,...])"
   ]
  },
  {
   "cell_type": "markdown",
   "id": "c8b43557-62cd-4567-b876-1c39c2b5a95a",
   "metadata": {},
   "source": [
    "## Array Manipulation"
   ]
  },
  {
   "cell_type": "code",
   "execution_count": 40,
   "id": "2bf912af-801c-4a52-b1aa-27981378a397",
   "metadata": {},
   "outputs": [
    {
     "name": "stdout",
     "output_type": "stream",
     "text": [
      "[[1. 2. 3.]\n",
      " [4. 5. 6.]]\n",
      "[[1. 4.]\n",
      " [2. 5.]\n",
      " [3. 6.]]\n",
      "[[1. 2. 3.]\n",
      " [4. 5. 6.]]\n"
     ]
    }
   ],
   "source": [
    "## Transpose\n",
    "\n",
    "print(b)\n",
    "i = np.transpose(b)\n",
    "print(i)\n",
    "print(i.T)"
   ]
  },
  {
   "cell_type": "code",
   "execution_count": 44,
   "id": "81958ab3-41c6-41e3-a0fb-5ea671ce7b02",
   "metadata": {},
   "outputs": [
    {
     "name": "stdout",
     "output_type": "stream",
     "text": [
      "[1. 2. 3. 4. 5. 6.]\n",
      "[[1. 2. 3.]\n",
      " [4. 5. 6.]]\n",
      "[[1. 2.]\n",
      " [3. 4.]\n",
      " [5. 6.]]\n"
     ]
    }
   ],
   "source": [
    "## Changing Array Shape\n",
    "\n",
    "print(b.ravel())\n",
    "print(b)\n",
    "print(b.reshape(3,-2))"
   ]
  },
  {
   "cell_type": "code",
   "execution_count": 50,
   "id": "4afacb0e-c724-422d-9d1e-af676513c492",
   "metadata": {},
   "outputs": [
    {
     "name": "stdout",
     "output_type": "stream",
     "text": [
      "[[ 1  2  3  4  5  6]\n",
      " [ 7  8  9 10 11 12]]\n",
      "[[1 2 3 0 0 0]\n",
      " [0 0 0 0 0 0]]\n"
     ]
    }
   ],
   "source": [
    "## Resize\n",
    "\n",
    "h = np.array([1,2,3,4,5,6,7,8,9,10,11,12])\n",
    "h.resize((2,6))\n",
    "print(h)\n",
    "\n",
    "h=np.array([1,2,3])\n",
    "h.resize((2,6))\n",
    "print(h)"
   ]
  },
  {
   "cell_type": "code",
   "execution_count": 55,
   "id": "2e528b3b-c87a-4837-b0bf-d3685af6c8d8",
   "metadata": {},
   "outputs": [
    {
     "name": "stdout",
     "output_type": "stream",
     "text": [
      "[1 2 3 4 5 6]\n",
      "[ 2  5  4  4  6 33]\n",
      "[ 2  4  6 33]\n"
     ]
    }
   ],
   "source": [
    "## Adding and deleting elements\n",
    "\n",
    "h = np.array([1,2,3])\n",
    "g = np.array([4,5,6])\n",
    "print(np.append(h,g))\n",
    "\n",
    "print(np.insert(a,1,5))\n",
    "\n",
    "print(np.delete(a,[1]))"
   ]
  },
  {
   "cell_type": "markdown",
   "id": "b4139465-3722-4cfa-9b55-612b80246a56",
   "metadata": {},
   "source": [
    "## Combining Arrays"
   ]
  },
  {
   "cell_type": "code",
   "execution_count": 65,
   "id": "ccd44467-1a5a-4e68-95d1-84e31df9a6b9",
   "metadata": {},
   "outputs": [
    {
     "name": "stdout",
     "output_type": "stream",
     "text": [
      "[1 2 3 4 5 3 4 5 6 7]\n",
      "[[1 2 3 4 5]\n",
      " [3 4 5 6 7]\n",
      " [3 4 5 6 7]]\n",
      "[1 2 3 4 5 3 4 5 6 7 3 4 5 6 7]\n",
      "[[1 3 3]\n",
      " [2 4 4]\n",
      " [3 5 5]\n",
      " [4 6 6]\n",
      " [5 7 7]]\n",
      "[1 2 3 4 5 3 4 5 6 7 3 4 5 6 7]\n",
      "[[1 3 3]\n",
      " [2 4 4]\n",
      " [3 5 5]\n",
      " [4 6 6]\n",
      " [5 7 7]]\n"
     ]
    }
   ],
   "source": [
    "a = np.array([1,2,3,4,5])\n",
    "b = np.array([3,4,5,6,7])\n",
    "\n",
    "print(np.concatenate((a,b), axis=0))\n",
    "print(np.vstack((a,b,b)))\n",
    "print(np.hstack((a,b,b)))\n",
    "print(np.column_stack((a,b,b)))\n",
    "print(np.r_[a,b,b])\n",
    "print(np.c_[a,b,b])"
   ]
  },
  {
   "cell_type": "markdown",
   "id": "099ab72a-87d5-43ed-af89-b941b60a5609",
   "metadata": {},
   "source": [
    "## Splitting arrays"
   ]
  },
  {
   "cell_type": "code",
   "execution_count": 79,
   "id": "c906effe-95a3-4695-b50c-b0705e5b3aa8",
   "metadata": {},
   "outputs": [
    {
     "name": "stdout",
     "output_type": "stream",
     "text": [
      "[array([1, 2]), array([3, 4]), array([5, 6])]\n",
      "[array([[1, 2, 3, 4, 5, 6],\n",
      "       [1, 2, 3, 4, 5, 6]]), array([[1, 2, 3, 4, 5, 6],\n",
      "       [1, 2, 3, 4, 5, 6]])]\n"
     ]
    }
   ],
   "source": [
    "a = np.array([1,2,3,4,5,6])\n",
    "b = np.vstack((a,a,a,a))\n",
    "print(np.hsplit(a,3))\n",
    "print(np.vsplit(b,2))"
   ]
  },
  {
   "cell_type": "code",
   "execution_count": null,
   "id": "1ab65a19-9195-4236-acb4-1dde8e632295",
   "metadata": {},
   "outputs": [],
   "source": []
  }
 ],
 "metadata": {
  "kernelspec": {
   "display_name": "Python 3 (ipykernel)",
   "language": "python",
   "name": "python3"
  },
  "language_info": {
   "codemirror_mode": {
    "name": "ipython",
    "version": 3
   },
   "file_extension": ".py",
   "mimetype": "text/x-python",
   "name": "python",
   "nbconvert_exporter": "python",
   "pygments_lexer": "ipython3",
   "version": "3.12.0"
  }
 },
 "nbformat": 4,
 "nbformat_minor": 5
}
